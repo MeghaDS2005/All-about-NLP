{
 "cells": [
  {
   "cell_type": "markdown",
   "id": "ec5bf819",
   "metadata": {},
   "source": [
    "# Spacy uses object oriented programming"
   ]
  },
  {
   "cell_type": "code",
   "execution_count": 1,
   "id": "5378af92",
   "metadata": {},
   "outputs": [],
   "source": [
    "import spacy"
   ]
  },
  {
   "cell_type": "markdown",
   "id": "e3025f44",
   "metadata": {},
   "source": [
    "## Sentence Tokenization in Spacy"
   ]
  },
  {
   "cell_type": "code",
   "execution_count": 2,
   "id": "31519baa",
   "metadata": {},
   "outputs": [],
   "source": [
    "nlp=spacy.load(\"en_core_web_sm\")"
   ]
  },
  {
   "cell_type": "code",
   "execution_count": 5,
   "id": "00b9737b",
   "metadata": {},
   "outputs": [
    {
     "name": "stdout",
     "output_type": "stream",
     "text": [
      "Multilayer perceptron (MLP) is a classical feed-forward type of neural networks based on a three-layer structure: input layer, hidden layer and output layer.\n",
      "The multilayer perceptron trained by backpropagation algorithm is the most frequently used technique that was applied in various related problems.\n"
     ]
    }
   ],
   "source": [
    "doc=nlp(\"Multilayer perceptron (MLP) is a classical feed-forward type of neural networks based on a three-layer structure: input layer, hidden layer and output layer. The multilayer perceptron trained by backpropagation algorithm is the most frequently used technique that was applied in various related problems.\")\n",
    "# splitting the text into sentences\n",
    "for sentence in doc.sents:\n",
    "        print(sentence)"
   ]
  },
  {
   "cell_type": "code",
   "execution_count": 6,
   "id": "09a551a7",
   "metadata": {},
   "outputs": [
    {
     "name": "stdout",
     "output_type": "stream",
     "text": [
      "Multilayer\n",
      "perceptron\n",
      "(\n",
      "MLP\n",
      ")\n",
      "is\n",
      "a\n",
      "classical\n",
      "feed\n",
      "-\n",
      "forward\n",
      "type\n",
      "of\n",
      "neural\n",
      "networks\n",
      "based\n",
      "on\n",
      "a\n",
      "three\n",
      "-\n",
      "layer\n",
      "structure\n",
      ":\n",
      "input\n",
      "layer\n",
      ",\n",
      "hidden\n",
      "layer\n",
      "and\n",
      "output\n",
      "layer\n",
      ".\n",
      "The\n",
      "multilayer\n",
      "perceptron\n",
      "trained\n",
      "by\n",
      "backpropagation\n",
      "algorithm\n",
      "is\n",
      "the\n",
      "most\n",
      "frequently\n",
      "used\n",
      "technique\n",
      "that\n",
      "was\n",
      "applied\n",
      "in\n",
      "various\n",
      "related\n",
      "problems\n",
      ".\n"
     ]
    }
   ],
   "source": [
    "for sentence in doc.sents:\n",
    "    for word in sentence:\n",
    "        print(word)"
   ]
  },
  {
   "cell_type": "markdown",
   "id": "5fb8d306",
   "metadata": {},
   "source": [
    "# NLTK"
   ]
  },
  {
   "cell_type": "code",
   "execution_count": 7,
   "id": "ef227cf2",
   "metadata": {},
   "outputs": [],
   "source": [
    "import nltk"
   ]
  },
  {
   "cell_type": "code",
   "execution_count": null,
   "id": "104c9410",
   "metadata": {},
   "outputs": [],
   "source": [
    "from nltk.tokenizer import "
   ]
  }
 ],
 "metadata": {
  "kernelspec": {
   "display_name": "Python 3 (ipykernel)",
   "language": "python",
   "name": "python3"
  },
  "language_info": {
   "codemirror_mode": {
    "name": "ipython",
    "version": 3
   },
   "file_extension": ".py",
   "mimetype": "text/x-python",
   "name": "python",
   "nbconvert_exporter": "python",
   "pygments_lexer": "ipython3",
   "version": "3.10.6"
  }
 },
 "nbformat": 4,
 "nbformat_minor": 5
}
